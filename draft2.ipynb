{
 "cells": [
  {
   "cell_type": "markdown",
   "metadata": {},
   "source": [
    "### Import das bibliotecas"
   ]
  },
  {
   "cell_type": "code",
   "execution_count": 1,
   "metadata": {},
   "outputs": [],
   "source": [
    "from sel_relays.sel700 import SEL700\n",
    "from time import sleep\n",
    "from random import uniform"
   ]
  },
  {
   "cell_type": "markdown",
   "metadata": {},
   "source": [
    "### Declaração dos relés"
   ]
  },
  {
   "cell_type": "code",
   "execution_count": 2,
   "metadata": {},
   "outputs": [],
   "source": [
    "relays = ['10.82.125.104', '10.82.125.105', '10.82.125.106', '10.82.125.107', '10.82.125.108', '10.82.125.109']"
   ]
  },
  {
   "cell_type": "markdown",
   "metadata": {},
   "source": [
    "### Check do Test DB"
   ]
  },
  {
   "cell_type": "code",
   "execution_count": null,
   "metadata": {},
   "outputs": [
    {
     "name": "stdout",
     "output_type": "stream",
     "text": [
      "\u0003TEST DB\n",
      "\u0002\n",
      "No Values Overridden\n",
      "\u0003\u0002\n",
      "=>>\n"
     ]
    }
   ],
   "source": [
    "for ip in relays:\n",
    "    relay = SEL700(ip, level2=True)"
   ]
  },
  {
   "cell_type": "markdown",
   "metadata": {},
   "source": [
    "### Execução do Test DB"
   ]
  },
  {
   "cell_type": "code",
   "execution_count": 3,
   "metadata": {},
   "outputs": [
    {
     "name": "stdout",
     "output_type": "stream",
     "text": [
      "Value Overrided\n",
      "Value Overrided\n",
      "Value Overrided\n",
      "Value Overrided\n",
      "Value Overrided\n",
      "Value Overrided\n",
      "Value Overrided\n",
      "Value Overrided\n",
      "Value Overrided\n",
      "Value Overrided\n",
      "Value Overrided\n",
      "Value Overrided\n",
      "Value Overrided\n",
      "Value Overrided\n",
      "Value Overrided\n",
      "Value Overrided\n",
      "Value Overrided\n",
      "Value Overrided\n",
      "Value Overrided\n",
      "Value Overrided\n",
      "Value Overrided\n",
      "Value Overrided\n",
      "Value Overrided\n",
      "Value Overrided\n",
      "Value Overrided\n",
      "Value Overrided\n",
      "Value Overrided\n",
      "Value Overrided\n",
      "Value Overrided\n",
      "Value Overrided\n",
      "Value Overrided\n",
      "Value Overrided\n",
      "Value Overrided\n",
      "Value Overrided\n",
      "Value Overrided\n",
      "Value Overrided\n",
      "Value Overrided\n",
      "Value Overrided\n",
      "Value Overrided\n",
      "Value Overrided\n",
      "Value Overrided\n",
      "Value Overrided\n",
      "Value Overrided\n",
      "Value Overrided\n",
      "Value Overrided\n",
      "Value Overrided\n",
      "Value Overrided\n",
      "Value Overrided\n",
      "Value Overrided\n",
      "Value Overrided\n",
      "Value Overrided\n",
      "Value Overrided\n",
      "Value Overrided\n",
      "Value Overrided\n",
      "Value Overrided\n",
      "Value Overrided\n",
      "Value Overrided\n",
      "Value Overrided\n",
      "Value Overrided\n",
      "Value Overrided\n",
      "Value Overrided\n",
      "Value Overrided\n",
      "Value Overrided\n",
      "Value Overrided\n",
      "Value Overrided\n",
      "Value Overrided\n",
      "Value Overrided\n",
      "Value Overrided\n",
      "Value Overrided\n",
      "Value Overrided\n",
      "Value Overrided\n",
      "Value Overrided\n",
      "Value Overrided\n",
      "Value Overrided\n",
      "Value Overrided\n",
      "Value Overrided\n",
      "Value Overrided\n",
      "Value Overrided\n",
      "Value Overrided\n",
      "Value Overrided\n",
      "Value Overrided\n",
      "Value Overrided\n",
      "Value Overrided\n",
      "Value Overrided\n",
      "Value Overrided\n",
      "Value Overrided\n",
      "Value Overrided\n",
      "Value Overrided\n",
      "Value Overrided\n",
      "Value Overrided\n",
      "Value Overrided\n",
      "Value Overrided\n",
      "Value Overrided\n",
      "Value Overrided\n",
      "Value Overrided\n",
      "Value Overrided\n",
      "Value Overrided\n",
      "Value Overrided\n",
      "Value Overrided\n",
      "Value Overrided\n",
      "Value Overrided\n",
      "Value Overrided\n",
      "Value Overrided\n",
      "Value Overrided\n",
      "Value Overrided\n",
      "Value Overrided\n",
      "Value Overrided\n",
      "Value Overrided\n",
      "Value Overrided\n",
      "Value Overrided\n",
      "Value Overrided\n",
      "Value Overrided\n",
      "Value Overrided\n",
      "Value Overrided\n",
      "Value Overrided\n",
      "Value Overrided\n",
      "Value Overrided\n",
      "Value Overrided\n",
      "Value Overrided\n",
      "Value Overrided\n",
      "Value Overrided\n",
      "Value Overrided\n",
      "Value Overrided\n",
      "Value Overrided\n",
      "Value Overrided\n",
      "Value Overrided\n",
      "Value Overrided\n",
      "Value Overrided\n",
      "Value Overrided\n",
      "Value Overrided\n",
      "Value Overrided\n",
      "Value Overrided\n",
      "Value Overrided\n",
      "Value Overrided\n",
      "Value Overrided\n",
      "Value Overrided\n",
      "Value Overrided\n",
      "Value Overrided\n",
      "Value Overrided\n",
      "Value Overrided\n",
      "Value Overrided\n",
      "Value Overrided\n",
      "Value Overrided\n",
      "Value Overrided\n",
      "Value Overrided\n",
      "Value Overrided\n",
      "Value Overrided\n",
      "Value Overrided\n",
      "Value Overrided\n",
      "Value Overrided\n",
      "Value Overrided\n",
      "Value Overrided\n",
      "Value Overrided\n",
      "Value Overrided\n",
      "Value Overrided\n",
      "Value Overrided\n",
      "Value Overrided\n",
      "Value Overrided\n",
      "Value Overrided\n",
      "Value Overrided\n",
      "Value Overrided\n",
      "Value Overrided\n",
      "Value Overrided\n",
      "Value Overrided\n",
      "Value Overrided\n",
      "Value Overrided\n",
      "Value Overrided\n",
      "Value Overrided\n",
      "Value Overrided\n",
      "Value Overrided\n",
      "Value Overrided\n",
      "Value Overrided\n",
      "Value Overrided\n",
      "Value Overrided\n",
      "Value Overrided\n",
      "Value Overrided\n",
      "Value Overrided\n",
      "Value Overrided\n",
      "Value Overrided\n",
      "Value Overrided\n",
      "Value Overrided\n",
      "Value Overrided\n",
      "Value Overrided\n",
      "Value Overrided\n",
      "Value Overrided\n",
      "Value Overrided\n",
      "Value Overrided\n",
      "Value Overrided\n",
      "Value Overrided\n",
      "Value Overrided\n",
      "Value Overrided\n",
      "Value Overrided\n",
      "Value Overrided\n",
      "Value Overrided\n",
      "Value Overrided\n",
      "Value Overrided\n",
      "Value Overrided\n",
      "Value Overrided\n"
     ]
    },
    {
     "ename": "KeyboardInterrupt",
     "evalue": "",
     "output_type": "error",
     "traceback": [
      "\u001b[1;31m---------------------------------------------------------------------------\u001b[0m",
      "\u001b[1;31mKeyboardInterrupt\u001b[0m                         Traceback (most recent call last)",
      "Cell \u001b[1;32mIn[3], line 14\u001b[0m\n\u001b[0;32m     11\u001b[0m     relay\u001b[38;5;241m.\u001b[39mtest_db(\u001b[38;5;124m'\u001b[39m\u001b[38;5;124mA\u001b[39m\u001b[38;5;124m'\u001b[39m, \u001b[38;5;124m'\u001b[39m\u001b[38;5;124mIC_MAG\u001b[39m\u001b[38;5;124m'\u001b[39m, \u001b[38;5;28mstr\u001b[39m(corrente_IC))\n\u001b[0;32m     12\u001b[0m     sleep(\u001b[38;5;241m5\u001b[39m)\n\u001b[1;32m---> 14\u001b[0m \u001b[43msleep\u001b[49m\u001b[43m(\u001b[49m\u001b[38;5;241;43m10\u001b[39;49m\u001b[43m)\u001b[49m\n",
      "\u001b[1;31mKeyboardInterrupt\u001b[0m: "
     ]
    }
   ],
   "source": [
    "while True:\n",
    "    for ip in relays:\n",
    "        corrente_IA = round(uniform(100, 300), 0)\n",
    "        corrente_IB = round(uniform(100, 300), 0)\n",
    "        corrente_IC = round(uniform(100, 300), 0)\n",
    "\n",
    "        relay = SEL700(ip, level2=True)\n",
    "\n",
    "        relay.test_db('A', 'IA_MAG', str(corrente_IA))\n",
    "        relay.test_db('A', 'IB_MAG', str(corrente_IB))\n",
    "        relay.test_db('A', 'IC_MAG', str(corrente_IC))\n",
    "        sleep(5)\n",
    "        \n",
    "    sleep(10)"
   ]
  },
  {
   "cell_type": "markdown",
   "metadata": {},
   "source": [
    "### Desligar Test DB"
   ]
  },
  {
   "cell_type": "code",
   "execution_count": 4,
   "metadata": {},
   "outputs": [
    {
     "name": "stdout",
     "output_type": "stream",
     "text": [
      "Test DB Disabled\n",
      "Test DB Disabled\n",
      "Test DB Disabled\n",
      "Test DB Disabled\n",
      "Test DB Disabled\n",
      "Test DB Disabled\n"
     ]
    }
   ],
   "source": [
    "for ip in relays:\n",
    "        relay = SEL700(ip, level2=True)\n",
    "        relay.test_db_off()"
   ]
  }
 ],
 "metadata": {
  "kernelspec": {
   "display_name": "venv",
   "language": "python",
   "name": "python3"
  },
  "language_info": {
   "codemirror_mode": {
    "name": "ipython",
    "version": 3
   },
   "file_extension": ".py",
   "mimetype": "text/x-python",
   "name": "python",
   "nbconvert_exporter": "python",
   "pygments_lexer": "ipython3",
   "version": "3.12.7"
  }
 },
 "nbformat": 4,
 "nbformat_minor": 2
}
